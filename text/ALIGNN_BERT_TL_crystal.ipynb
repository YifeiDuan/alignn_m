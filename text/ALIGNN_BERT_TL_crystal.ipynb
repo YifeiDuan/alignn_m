{
  "cells": [
    {
      "cell_type": "markdown",
      "metadata": {
        "id": "rKTIWuXMkfUD"
      },
      "source": [
        "### Download & Unzip Codebase Repository\n"
      ]
    },
    {
      "cell_type": "code",
      "execution_count": null,
      "metadata": {
        "id": "KFhRdMs4byd3"
      },
      "outputs": [],
      "source": [
        "!wget -O ALIGNN-BERT-TL-crystal.zip https://figshare.com/ndownloader/files/50344371"
      ]
    },
    {
      "cell_type": "code",
      "execution_count": null,
      "metadata": {
        "id": "n7bMLh4WZ8O6"
      },
      "outputs": [],
      "source": [
        "!unzip \"./ALIGNN-BERT-TL-crystal.zip\" -d ."
      ]
    },
    {
      "cell_type": "markdown",
      "metadata": {
        "id": "B9k6tnz4mMgq"
      },
      "source": [
        "### Install Python3.9"
      ]
    },
    {
      "cell_type": "code",
      "execution_count": null,
      "metadata": {
        "id": "hujFAIolqzIH"
      },
      "outputs": [],
      "source": [
        "# skip if python3.9 already installed\n",
        "# install python3.9\n",
        "!sudo apt-get install python3.9\n",
        "!sudo update-alternatives --install /usr/bin/python3 python3 /usr/bin/python3.9 1\n",
        "# install pip\n",
        "!sudo apt-get install python3.9-distutils\n",
        "!wget https://bootstrap.pypa.io/get-pip.py\n",
        "!python get-pip.py"
      ]
    },
    {
      "cell_type": "code",
      "execution_count": null,
      "metadata": {
        "id": "tnQEqGYuk56p"
      },
      "outputs": [],
      "source": [
        "#check python version\n",
        "!python --version"
      ]
    },
    {
      "cell_type": "markdown",
      "metadata": {
        "id": "42BuVrnPs_KN"
      },
      "source": [
        "Install Library Dependencies. **IMPORTANT: ignore the restarting warning in popup window and don't restart. Click CANCEL**"
      ]
    },
    {
      "cell_type": "code",
      "execution_count": null,
      "metadata": {
        "id": "Bp_hNR8HmZDG"
      },
      "outputs": [],
      "source": [
        "!cd ALIGNN-BERT-TL-crystal && pip install -r requirements.txt"
      ]
    },
    {
      "cell_type": "markdown",
      "metadata": {
        "id": "sOCjK0Kxt7jw"
      },
      "source": [
        "### Feature Extraction and Concatenation"
      ]
    },
    {
      "cell_type": "markdown",
      "metadata": {
        "id": "C6c127Djt8wL"
      },
      "source": [
        "#### 1. Download ALIGNN embeddings for 75k dft-3d dataset (source model: ALIGNN formation energy trained MP project dataset). Alternatively, we can follow instructions in [ALIGNNTL: Feature Extraction](https://github.com/NU-CUCIS/ALIGNNTL.git) to extract ALIGNN-based embeddings from pre-trained ALIGNN model"
      ]
    },
    {
      "cell_type": "code",
      "execution_count": null,
      "metadata": {
        "id": "admdj9pCt4eU"
      },
      "outputs": [],
      "source": [
        "!cd ALIGNN-BERT-TL-crystal/data/embeddings && wget -O data0.csv https://figshare.com/ndownloader/files/49434619"
      ]
    },
    {
      "cell_type": "markdown",
      "metadata": {
        "id": "tRriXTZ0byd6"
      },
      "source": []
    },
    {
      "cell_type": "markdown",
      "metadata": {
        "id": "uEAGgZ_bpFeQ"
      },
      "source": [
        "#### 2. Download MatBERT pretrained model following [instructions](https://github.com/lbnlp/MatBERT) and save it under /matbert (skip if using bert model not matbert)"
      ]
    },
    {
      "cell_type": "code",
      "execution_count": null,
      "metadata": {
        "id": "mdR4QJVPsLbI"
      },
      "outputs": [],
      "source": [
        "!export MODEL_PATH=\"/content/ALIGNN-BERT-TL-crystal//matbert\" && mkdir -p $MODEL_PATH/matbert-base-cased\n",
        "\n",
        "!export MODEL_PATH=\"/content/ALIGNN-BERT-TL-crystal/matbert\" && curl -# -o $MODEL_PATH/matbert-base-cased/config.json https://cedergroup-share.s3-us-west-2.amazonaws.com/public/MatBERT/model_2Mpapers_cased_30522_wd/config.json\n",
        "!export MODEL_PATH=\"/content/ALIGNN-BERT-TL-crystal//matbert\" && curl -# -o $MODEL_PATH/matbert-base-cased/vocab.txt https://cedergroup-share.s3-us-west-2.amazonaws.com/public/MatBERT/model_2Mpapers_cased_30522_wd/vocab.txt\n",
        "!export MODEL_PATH=\"/content/ALIGNN-BERT-TL-crystal//matbert\" && curl -# -o $MODEL_PATH/matbert-base-cased/pytorch_model.bin https://cedergroup-share.s3-us-west-2.amazonaws.com/public/MatBERT/model_2Mpapers_cased_30522_wd/pytorch_model.bin\n",
        "\n",
        "\n"
      ]
    },
    {
      "cell_type": "markdown",
      "metadata": {
        "id": "3kO3j-8LuA-3"
      },
      "source": [
        "#### 3. Genearate and concatenate LLM feature extraction."
      ]
    },
    {
      "cell_type": "code",
      "execution_count": null,
      "metadata": {
        "id": "5WNhQ3VOjb3K"
      },
      "outputs": [],
      "source": [
        "\n",
        "# 3.a Generate text descriptions for samples\n",
        "# Example command for robocystallographer text source (the first 20 samples only)\n",
        "!cd ALIGNN-BERT-TL-crystal && python generater.py --text robo --end 20\n",
        "# Use --text to specify text generator source: robo/chemnlp;\n",
        "# Use --end k to select an small subset (the first k samples), ignore to use full dataset in production run\n",
        "\n",
        "#  For robocystallographer, the above generation for entire 75k samples can take hours.\n",
        "# (Recommanded for production run) We provide staging csv for robocystallographer(output from this step) available. To download:\n",
        "# !cd ALIGNN-BERT-TL-crystal/data/text && wget -O robo_0_75993_skip_none.csv https://figshare.com/ndownloader/files/49576959\n"
      ]
    },
    {
      "cell_type": "code",
      "execution_count": null,
      "metadata": {
        "id": "GhqcxzgPJuNT"
      },
      "outputs": [],
      "source": [
        "# Optional: check the text content of generated text description\n",
        "import pandas as pd\n",
        "df = pd.read_csv(\"ALIGNN-BERT-TL-crystal/data/text/robo_0_20_skip_none.csv\", index_col=0) # for example samples (first 20)\n",
        "# df = pd.read_csv(\"ALIGNN-BERT-TL-crystal/data/text/robo_0_75993_skip_none.csv\", index_col=0) # for production run\n",
        "df.head()"
      ]
    },
    {
      "cell_type": "code",
      "execution_count": null,
      "metadata": {
        "id": "8lAnmQ0dlOFj"
      },
      "outputs": [],
      "source": [
        "# 3.b Generate LLM embeddings\n",
        "# Example command for robocystallographer text source and matbert-base-cased model\n",
        "# The process can take up to hours for the entire dataset\n",
        "!cd ALIGNN-BERT-TL-crystal && python preprocess.py \\\n",
        "--llm matbert-base-cased --text robo --cache_csv \"./data/text/robo_0_20_skip_none.csv\" # for first 20 samples only\n",
        "# Use --text to specify text generator source: robo/chemnlp;\n",
        "#--llm to select language model:  matbert-base-cased/bert-base-uncased\n",
        "# --cache_csv to specify the staged text description file (output from last step)\n",
        "\n",
        "# Alternatively, we provide staging csv for the embeddings from robocystallographer + matbert-base-cased (output from this step) available. To download:\n",
        "# !cd ALIGNN-BERT-TL-crystal/data/embeddings && wget -O embeddings_matbert-base-cased_robo_75966.csv https://figshare.com/ndownloader/files/50342622"
      ]
    },
    {
      "cell_type": "code",
      "execution_count": null,
      "metadata": {
        "id": "Bjm_wXBEk-Lo"
      },
      "outputs": [],
      "source": [
        "# 3.c Prepare dataset for training and evaluating property predictor model (concatenate embeddings if needed)\n",
        "# Example command for robocystallographer text source and matbert-base-cased model with full text\n",
        "# --gnn_file_path gnn embedding path\n",
        "# --split_dir json file containing dataset split information for train, validation and test set\n",
        "# --prop property name to predict. \"all\" for all 7 properties\n",
        "# --input_dir llm embeddings folder, the program searches for all embedding csv files under the path that matches name pattern based on llm model, text source and skip words\n",
        "# NOTE: Begin using the production run dataset starting from this checkpoint onward\n",
        "# The programs checks if the provided embedding csv files covers all train/val/test sample ids, if not it will skip this property\n",
        "\n",
        "# 1. Download the staging embedding csv file in case that production run (full dataset) is not used in previous steps\n",
        "!cd ALIGNN-BERT-TL-crystal/data/embeddings && wget -O embeddings_matbert-base-cased_robo_75966.csv https://figshare.com/ndownloader/files/50342622\n",
        "\n",
        "# 2. Concatenate LLM and GNN embeddings and prepared train/val/test datasets\n",
        "!cd ALIGNN-BERT-TL-crystal && python features.py \\\n",
        "--input_dir \"./data/embeddings\" \\\n",
        "--gnn_file_path \"./data/embeddings/data0.csv\" \\\n",
        "--split_dir \"./data/split/\" \\\n",
        "--llm matbert-base-cased \\\n",
        "--text robo --prop mbj_bandgap"
      ]
    },
    {
      "cell_type": "markdown",
      "metadata": {
        "id": "XytW-5dhu5WZ"
      },
      "source": [
        "### Predictor Model Training"
      ]
    },
    {
      "cell_type": "markdown",
      "metadata": {
        "id": "qJCICs6V_WBz"
      },
      "source": [
        "1. Create config file to specify dataset path, model architecture, hyperparameters and other info in `/CrossPropertyTL/sample/`. Example config file provided for mbj_bandgap property with merged embeddings from ALIGNN and MatBERT and text from Robocystallographer: `./CrossPropertyTL/elemnet/sample/example_alignn_matbert-base-cased_robo_prop_mbj_bandgap.config`"
      ]
    },
    {
      "cell_type": "markdown",
      "metadata": {
        "id": "zW3UFVtbAKwp"
      },
      "source": [
        "2. Make sure the filepaths of generated train/val/test datasets from last step are corrected entered in config file:\n",
        "\n",
        "```\n",
        "{\n",
        "   ...\n",
        "   \"train_data_path\": \"../../data/dataset_alignn_matbert-base-cased_robo_prop_mbj_bandgap_train.csv\",\n",
        "   \"val_data_path\": \"../../data/dataset_alignn_matbert-base-cased_robo_prop_mbj_bandgap_val.csv\",\n",
        "   \"test_data_path\": \"../../data/dataset_alignn_matbert-base-cased_robo_prop_mbj_bandgap_test.csv\",\n",
        "   ...\n",
        "      }\n",
        "```"
      ]
    },
    {
      "cell_type": "markdown",
      "metadata": {
        "id": "hiblBV2xAYKh"
      },
      "source": [
        "3. Pass the config file to the dl_regressors_tf2.py to start model training. Example command for training predictor model of spillage with GNN & MATBERT embeddings generated from robocystallographer text. The test error in MAE is printed at the end training process. The log is also saved under `ALIGNN-BERT-TL-crystal/CrossPropertyTL/elemnet/log/alignn_matbert-base-cased_robo_prop_mbj_bandgap.log`"
      ]
    },
    {
      "cell_type": "code",
      "execution_count": null,
      "metadata": {
        "id": "6IH8J9HWlugW"
      },
      "outputs": [],
      "source": [
        "# GPU env only: install cuda 11 to match with tensorflow 2.7\n",
        "# Google collab notebook has a default cuda version of cuda 12\n",
        "!apt-get update\n",
        "!apt-get install cuda-toolkit-11-8"
      ]
    },
    {
      "cell_type": "code",
      "execution_count": null,
      "metadata": {
        "colab": {
          "background_save": true
        },
        "id": "O-oPlsO8ARIR"
      },
      "outputs": [],
      "source": [
        "# Example command for robocystallographer text source and matbert-base-cased model with full text\n",
        "!export LD_LIBRARY_PATH=/usr/local/cuda-11/lib64:$LD_LIBRARY_PATH && \\\n",
        "export LD_LIBRARY_PATH=/usr/local/cuda-11.8/lib64:$LD_LIBRARY_PATH && \\\n",
        "cd ALIGNN-BERT-TL-crystal/CrossPropertyTL/elemnet && python dl_regressors_tf2.py \\\n",
        "--config_file sample/example_alignn_matbert-base-cased_robo_prop_mbj_bandgap.config"
      ]
    },
    {
      "cell_type": "markdown",
      "metadata": {
        "id": "21WTGTYjTbqp"
      },
      "source": [
        "### Ablation Study"
      ]
    },
    {
      "cell_type": "markdown",
      "metadata": {
        "id": "8qqbzBgrTrOH"
      },
      "source": [
        " We can optionally only select embeddings from singular source for the purpose of ablation study\n",
        "\n",
        "*   ALIGNN embeddings only: to do this, pass --gnn_only flag to `feature.py` program with the following values. And then proceed with Predictor Model Training section:\n",
        "  1. Create new config file from a copy of the example one for GNN-embeddings only test with a new name like `./CrossPropertyTL/elemnet/sample/example_alignn_prop_mbj_bandgap.config`\n",
        "  2. Make sure the filepaths of generated train/val/test datasets from last step are corrected entered in config file e.g `./data/dataset_alignn_only_prop_mbj_bandgap_test.csv`\n",
        "  3. Proceed with the model traiining python command with new config file in argument"
      ]
    },
    {
      "cell_type": "code",
      "execution_count": null,
      "metadata": {
        "id": "zsC38Oq5byd7"
      },
      "outputs": [],
      "source": [
        "# 3.c(GNN only) Add --gnn_only flag to use GNN embeddings only\n",
        "!cd ALIGNN-BERT-TL-crystal && python features.py \\\n",
        "--input_dir \"./data/embeddings\" \\\n",
        "--gnn_only \\\n",
        "--gnn_file_path \"./data/embeddings/data0.csv\" \\\n",
        "--split_dir \"./data/split/\" \\\n",
        "--llm matbert-base-cased \\\n",
        "--text robo \\\n",
        "--prop mbj_bandgap"
      ]
    },
    {
      "cell_type": "markdown",
      "metadata": {
        "id": "MPLmwyt8byd8"
      },
      "source": [
        "*   LLM embeddings only: to do this, skip --gnn_file_path arg  to `preprocess.py`. And then proceed with Predictor Model Training section:\n",
        "  1. Create new config file from a copy of the example one for LLM-embeddings only test with a new name like `./CrossPropertyTL/elemnet/sample/example_matbert-base-cased_robo_prop_mbj_bandgap.config`\n",
        "  2. Make sure the filepaths of generated train/val/test datasets from 3.c step are corrected entered in config file e.g `./data/dataset_matbert-base-cased_robo_prop_mbj_bandgap_val.csv`\n",
        "  3. Proceed with the model traiining python command with new config file in argument"
      ]
    },
    {
      "cell_type": "code",
      "execution_count": null,
      "metadata": {
        "id": "T67EuU4Hbyd8"
      },
      "outputs": [],
      "source": [
        "# 3.c(LLM only) Remove gnn_file_path flag to use GNN embeddings only\n",
        "!cd ALIGNN-BERT-TL-crystal && python features.py \\\n",
        "--input_dir \"./data/embeddings\" --split_dir \"./data/split/\" --llm matbert-base-cased --text robo --prop mbj_bandgap"
      ]
    },
    {
      "cell_type": "markdown",
      "metadata": {
        "id": "_CsReACnF9rB"
      },
      "source": [
        "### Text Representation Analysis"
      ]
    },
    {
      "cell_type": "markdown",
      "metadata": {
        "id": "zT7A7OoJJTaO"
      },
      "source": [
        " We can optionally remove the sentences that belongs to a specific topic. Available removable topics:\n",
        "\n",
        "*    Generated text from Robocrystallographer is categorized into five classes: summary, structure coordination, site info,\n",
        "bond length, and bond angle.\n",
        "*   Generated text from ChemNLP is categorized into 3 classes: chemical info, structure info\n",
        " and bond length.\n",
        "\n",
        "To do this, pass `--skip_sentence` arg to `preprocess.py` and `feature.py` program with the following values. And then proceed normally with Predictor Model Training\n",
        "\n",
        "* Robocrystallographer: ['summary', 'site', 'bond', 'length', 'angle']\n",
        "* ChemNLP: ['structure', 'chemical', 'bond']\n"
      ]
    },
    {
      "cell_type": "code",
      "execution_count": null,
      "metadata": {
        "id": "ZchUqgLgJkyi"
      },
      "outputs": [],
      "source": [
        "# 3.b (with text-removal) Generate LLM embeddings\n",
        "# Example command for robocystallographer text source and matbert-base-cased model with \"summary\" text removed\n",
        "!cd ALIGNN-BERT-TL-crystal && python preprocess.py \\\n",
        "--skip_sentence \"summary\" --llm matbert-base-cased --text robo --cache_csv \"./data/text/robo_0_75993_skip_none.csv\""
      ]
    },
    {
      "cell_type": "code",
      "execution_count": null,
      "metadata": {
        "id": "jpNnsmRzMOoq"
      },
      "outputs": [],
      "source": [
        "# 3.c (with text-removal) Prepare dataset for training and evaluating property predictor model\n",
        "# Example command for robocystallographer text source and matbert-base-cased model with summary text removed\n",
        "# NOTE: the programs checks if the provided embedding csv files covers all sample ids.\n",
        "!cd ALIGNN-BERT-TL-crystal && python features.py \\\n",
        "--skip_sentence summary --input_dir \"./data/embeddings\" \\\n",
        "--gnn_file_path \"./data/embeddings/data0.csv\" \\\n",
        "--split_dir \"./data/split/\" \\\n",
        "--llm matbert-base-cased \\\n",
        "--text robo \\\n",
        "--prop mbj_bandgap"
      ]
    },
    {
      "cell_type": "markdown",
      "metadata": {
        "id": "SjDL4H3f_47I"
      },
      "source": [
        "And then proceed with Predictor Model Training section:\n",
        "1. Create a new config file or modify the example one. Make sure the filepaths of generated train/val/test datasets from last step are corrected entered in config file e.g ./data/dataset_matbert-base-cased_robo_prop_skip_summary_mbj_bandgap_val.csv\n",
        "2. Proceed with the model traiining python command with the new config file in argument"
      ]
    }
  ],
  "metadata": {
    "colab": {
      "provenance": []
    },
    "kernelspec": {
      "display_name": "Python 3",
      "name": "python3"
    },
    "language_info": {
      "codemirror_mode": {
        "name": "ipython",
        "version": 3
      },
      "file_extension": ".py",
      "mimetype": "text/x-python",
      "name": "python",
      "nbconvert_exporter": "python",
      "pygments_lexer": "ipython3",
      "version": "3.9.19"
    }
  },
  "nbformat": 4,
  "nbformat_minor": 0
}