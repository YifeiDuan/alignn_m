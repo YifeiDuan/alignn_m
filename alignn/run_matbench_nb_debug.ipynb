{
 "cells": [
  {
   "cell_type": "code",
   "execution_count": 1,
   "id": "cf57336a",
   "metadata": {},
   "outputs": [
    {
     "name": "stdout",
     "output_type": "stream",
     "text": [
      "Sun Oct 27 21:57:13 2024       \r\n",
      "+-----------------------------------------------------------------------------+\r\n",
      "| NVIDIA-SMI 460.73.01    Driver Version: 460.73.01    CUDA Version: 11.2     |\r\n",
      "|-------------------------------+----------------------+----------------------+\r\n",
      "| GPU  Name        Persistence-M| Bus-Id        Disp.A | Volatile Uncorr. ECC |\r\n",
      "| Fan  Temp  Perf  Pwr:Usage/Cap|         Memory-Usage | GPU-Util  Compute M. |\r\n",
      "|                               |                      |               MIG M. |\r\n",
      "|===============================+======================+======================|\r\n",
      "|   0  TITAN Xp            Off  | 00000000:3B:00.0 Off |                  N/A |\r\n",
      "| 23%   36C    P8     9W / 250W |   1886MiB / 12195MiB |      0%      Default |\r\n",
      "|                               |                      |                  N/A |\r\n",
      "+-------------------------------+----------------------+----------------------+\r\n",
      "|   1  TITAN Xp            Off  | 00000000:AF:00.0 Off |                  N/A |\r\n",
      "| 23%   39C    P8     9W / 250W |      4MiB / 12196MiB |      0%      Default |\r\n",
      "|                               |                      |                  N/A |\r\n",
      "+-------------------------------+----------------------+----------------------+\r\n",
      "                                                                               \r\n",
      "+-----------------------------------------------------------------------------+\r\n",
      "| Processes:                                                                  |\r\n",
      "|  GPU   GI   CI        PID   Type   Process name                  GPU Memory |\r\n",
      "|        ID   ID                                                   Usage      |\r\n",
      "|=============================================================================|\r\n",
      "|    0   N/A  N/A      2308      G   /usr/lib/xorg/Xorg                 16MiB |\r\n",
      "|    0   N/A  N/A    206244      C   ...da3/envs/yifei/bin/python      655MiB |\r\n",
      "|    0   N/A  N/A    206308      C   ...da3/envs/yifei/bin/python      653MiB |\r\n",
      "|    0   N/A  N/A    228907      C   ..._crystag_keras/bin/python      557MiB |\r\n",
      "+-----------------------------------------------------------------------------+\r\n"
     ]
    }
   ],
   "source": [
    "!nvidia-smi"
   ]
  },
  {
   "cell_type": "code",
   "execution_count": 2,
   "id": "13dd5cf2",
   "metadata": {},
   "outputs": [],
   "source": [
    "import sys, os\n",
    "\n",
    "os.environ[\"CUDA_VISIBLE_DEVICES\"]=\"0\""
   ]
  },
  {
   "cell_type": "code",
   "execution_count": null,
   "id": "cc1a7904",
   "metadata": {
    "scrolled": false
   },
   "outputs": [
    {
     "name": "stderr",
     "output_type": "stream",
     "text": [
      "/home/synthesisproject/miniconda3/envs/yifei_alignn/lib/python3.9/site-packages/tqdm/auto.py:21: TqdmWarning: IProgress not found. Please update jupyter and ipywidgets. See https://ipywidgets.readthedocs.io/en/stable/user_install.html\n",
      "  from .autonotebook import tqdm as notebook_tqdm\n",
      "/home/synthesisproject/miniconda3/envs/yifei_alignn/lib/python3.9/site-packages/torch/cuda/__init__.py:128: UserWarning: CUDA initialization: The NVIDIA driver on your system is too old (found version 11020). Please update your GPU driver by downloading and installing a new version from the URL: http://www.nvidia.com/Download/index.aspx Alternatively, go to: https://pytorch.org to install a PyTorch version that has been compiled with your version of the CUDA driver. (Triggered internally at ../c10/cuda/CUDAFunctions.cpp:108.)\n",
      "  return torch._C._cuda_getDeviceCount() > 0\n"
     ]
    },
    {
     "name": "stdout",
     "output_type": "stream",
     "text": [
      "world_size 1\n",
      "root_dir matbench_jdft2d_exfoliation_en_fold_0\n",
      "id_prop_csv_file exists True\n",
      "len dataset 764\n",
      "Using LMDB dataset.\n",
      "Using  0.01  for classifying  target  data.\n",
      "Converting target data into 1 and 0.\n",
      "data range 1 1\n",
      "line_graph True\n"
     ]
    },
    {
     "name": "stderr",
     "output_type": "stream",
     "text": [
      "100%|██████████| 508/508 [00:00<00:00, 530686.53it/s]\n"
     ]
    },
    {
     "name": "stdout",
     "output_type": "stream",
     "text": [
      "Reading dataset sampletrain_data\n",
      "data range 1 1\n",
      "line_graph True\n"
     ]
    },
    {
     "name": "stderr",
     "output_type": "stream",
     "text": [
      "100%|██████████| 128/128 [00:00<00:00, 382386.69it/s]\n"
     ]
    },
    {
     "name": "stdout",
     "output_type": "stream",
     "text": [
      "Reading dataset sampleval_data\n",
      "data range 1 1\n",
      "line_graph True\n"
     ]
    },
    {
     "name": "stderr",
     "output_type": "stream",
     "text": [
      "100%|██████████| 128/128 [00:00<00:00, 405185.59it/s]"
     ]
    },
    {
     "name": "stdout",
     "output_type": "stream",
     "text": [
      "Reading dataset sampletest_data\n",
      "n_train: 508\n",
      "n_val  : 128\n",
      "n_test : 128\n",
      "rank 0\n",
      "world_size 1\n",
      "config:\n",
      "{'atom_features': 'cgcnn',\n",
      " 'batch_size': 32,\n",
      " 'classification_threshold': 0.01,\n",
      " 'criterion': 'mse',\n",
      " 'cutoff': 8.0,\n",
      " 'cutoff_extra': 3.0,\n",
      " 'data_parallel': False,\n",
      " 'dataset': 'user_data',\n",
      " 'distributed': False,\n",
      " 'epochs': 500,\n",
      " 'filename': 'sample',\n",
      " 'id_tag': 'jid',\n",
      " 'keep_data_order': True,\n",
      " 'learning_rate': 0.001,\n",
      " 'log_tensorboard': False,\n",
      " 'max_neighbors': 12,\n",
      " 'model': {'alignn_layers': 4,\n",
      "           'atom_input_features': 92,\n",
      "           'classification': False,\n",
      "           'edge_input_features': 80,\n",
      "           'embedding_features': 64,\n",
      "           'extra_features': 0,\n",
      "           'gcn_layers': 4,\n",
      "           'hidden_features': 256,\n",
      "           'link': 'identity',\n",
      "           'name': 'alignn',\n",
      "           'num_classes': 2,\n",
      "           'output_features': 1,\n",
      "           'triplet_input_features': 40,\n",
      "           'zero_inflated': False},\n",
      " 'n_early_stopping': None,\n",
      " 'n_test': 128,\n",
      " 'n_train': 508,\n",
      " 'n_val': 128,\n",
      " 'neighbor_strategy': 'k-nearest',\n",
      " 'normalize_graph_level_loss': False,\n",
      " 'num_workers': 0,\n",
      " 'optimizer': 'adamw',\n",
      " 'output_dir': 'matbench_jdft2d_exfoliation_en_outdir_0',\n",
      " 'pin_memory': False,\n",
      " 'progress': True,\n",
      " 'random_seed': 123,\n",
      " 'save_dataloader': False,\n",
      " 'scheduler': 'onecycle',\n",
      " 'standard_scalar_and_pca': False,\n",
      " 'store_outputs': True,\n",
      " 'target': 'target',\n",
      " 'target_multiplication_factor': None,\n",
      " 'test_ratio': 0.1,\n",
      " 'train_ratio': 0.8,\n",
      " 'use_canonize': True,\n",
      " 'use_lmdb': True,\n",
      " 'val_ratio': 0.1,\n",
      " 'version': '112bbedebdaecf59fb18e11c929080fb2f358246',\n",
      " 'warmup_steps': 2000,\n",
      " 'weight_decay': 1e-05,\n",
      " 'write_checkpoint': True,\n",
      " 'write_predictions': True}\n",
      "net parameters 4027010\n"
     ]
    },
    {
     "name": "stderr",
     "output_type": "stream",
     "text": [
      "\n",
      "/home/synthesisproject/miniconda3/envs/yifei_alignn/lib/python3.9/site-packages/torch/storage.py:414: FutureWarning: You are using `torch.load` with `weights_only=False` (the current default value), which uses the default pickle module implicitly. It is possible to construct malicious pickle data which will execute arbitrary code during unpickling (See https://github.com/pytorch/pytorch/blob/main/SECURITY.md#untrusted-models for more details). In a future release, the default value for `weights_only` will be flipped to `True`. This limits the functions that could be executed during unpickling. Arbitrary objects will no longer be allowed to be loaded via this mode unless they are explicitly allowlisted by the user via `torch.serialization.add_safe_globals`. We recommend you start setting `weights_only=True` for any use case where you don't have full control of the loaded file. Please open an issue on GitHub for any issues related to this experimental feature.\n",
      "  return torch.load(io.BytesIO(b))\n"
     ]
    },
    {
     "name": "stdout",
     "output_type": "stream",
     "text": [
      "Python 3.9.20 | packaged by conda-forge | (main, Sep 30 2024, 17:49:10) \n",
      "Type 'copyright', 'credits' or 'license' for more information\n",
      "IPython 8.18.1 -- An enhanced Interactive Python. Type '?' for help.\n",
      "\n",
      "In [1]: criterion\n",
      "Out[1]: NLLLoss()\n",
      "\n"
     ]
    }
   ],
   "source": [
    "%run -i train_folder.py --root_dir matbench_jdft2d_exfoliation_en_fold_0 --config_name matbench_jdft2d_exfoliation_en_fold_0/config_fold_0.json --file_format=poscar --output_dir=matbench_jdft2d_exfoliation_en_outdir_0"
   ]
  },
  {
   "cell_type": "code",
   "execution_count": null,
   "id": "0b6fc4f7",
   "metadata": {},
   "outputs": [],
   "source": []
  }
 ],
 "metadata": {
  "kernelspec": {
   "display_name": "yifei_alignn",
   "language": "python",
   "name": "yifei_alignn"
  },
  "language_info": {
   "codemirror_mode": {
    "name": "ipython",
    "version": 3
   },
   "file_extension": ".py",
   "mimetype": "text/x-python",
   "name": "python",
   "nbconvert_exporter": "python",
   "pygments_lexer": "ipython3",
   "version": "3.9.20"
  },
  "toc": {
   "base_numbering": 1,
   "nav_menu": {},
   "number_sections": true,
   "sideBar": true,
   "skip_h1_title": false,
   "title_cell": "Table of Contents",
   "title_sidebar": "Contents",
   "toc_cell": false,
   "toc_position": {},
   "toc_section_display": true,
   "toc_window_display": false
  }
 },
 "nbformat": 4,
 "nbformat_minor": 5
}
