{
  "cells": [
    {
      "cell_type": "markdown",
      "metadata": {
        "id": "rKTIWuXMkfUD"
      },
      "source": [
        "### Download & Unzip Codebase Repository\n"
      ]
    },
    {
      "cell_type": "markdown",
      "metadata": {
        "id": "uEAGgZ_bpFeQ"
      },
      "source": [
        "#### Download MatBERT pretrained model following [instructions](https://github.com/lbnlp/MatBERT) and save it under /matbert (skip if using bert model not matbert)"
      ]
    },
    {
      "cell_type": "code",
      "execution_count": null,
      "metadata": {
        "id": "mdR4QJVPsLbI"
      },
      "outputs": [],
      "source": [
        "!export MODEL_PATH=\"/content/ALIGNN-BERT-TL-crystal//matbert\" && mkdir -p $MODEL_PATH/matbert-base-cased\n",
        "\n",
        "!export MODEL_PATH=\"/content/ALIGNN-BERT-TL-crystal/matbert\" && curl -# -o $MODEL_PATH/matbert-base-cased/config.json https://cedergroup-share.s3-us-west-2.amazonaws.com/public/MatBERT/model_2Mpapers_cased_30522_wd/config.json\n",
        "!export MODEL_PATH=\"/content/ALIGNN-BERT-TL-crystal//matbert\" && curl -# -o $MODEL_PATH/matbert-base-cased/vocab.txt https://cedergroup-share.s3-us-west-2.amazonaws.com/public/MatBERT/model_2Mpapers_cased_30522_wd/vocab.txt\n",
        "!export MODEL_PATH=\"/content/ALIGNN-BERT-TL-crystal//matbert\" && curl -# -o $MODEL_PATH/matbert-base-cased/pytorch_model.bin https://cedergroup-share.s3-us-west-2.amazonaws.com/public/MatBERT/model_2Mpapers_cased_30522_wd/pytorch_model.bin\n",
        "\n",
        "\n"
      ]
    }
  ],
  "metadata": {
    "colab": {
      "provenance": []
    },
    "kernelspec": {
      "display_name": "Python 3",
      "name": "python3"
    },
    "language_info": {
      "codemirror_mode": {
        "name": "ipython",
        "version": 3
      },
      "file_extension": ".py",
      "mimetype": "text/x-python",
      "name": "python",
      "nbconvert_exporter": "python",
      "pygments_lexer": "ipython3",
      "version": "3.9.19"
    }
  },
  "nbformat": 4,
  "nbformat_minor": 0
}
